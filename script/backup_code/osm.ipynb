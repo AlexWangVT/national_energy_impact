{
 "cells": [
  {
   "cell_type": "code",
   "execution_count": 1,
   "metadata": {},
   "outputs": [
    {
     "name": "stderr",
     "output_type": "stream",
     "text": [
      "/home/jwang/workspace/national_energy_impact/.venv/lib/python3.8/site-packages/geopandas/_compat.py:124: UserWarning: The Shapely GEOS version (3.11.1-CAPI-1.17.1) is incompatible with the GEOS version PyGEOS was compiled with (3.10.4-CAPI-1.16.2). Conversions between both will be slow.\n",
      "  warnings.warn(\n"
     ]
    }
   ],
   "source": [
    "from pyrosm import OSM, get_data, data\n",
    "from pyrosm.data import sources\n",
    "from shapely import geos\n",
    "import pandas as pd\n",
    "import psycopg2\n",
    "import geopandas as gpd\n",
    "from sqlalchemy import create_engine\n",
    "import osmnx as ox"
   ]
  },
  {
   "cell_type": "code",
   "execution_count": 2,
   "metadata": {},
   "outputs": [],
   "source": [
    "def get_network_edges(state_name):\n",
    "    '''\n",
    "    Texas and Florida have too large files to be loaded by get_network function in the local computer, use ox.graph_from_place instead\n",
    "    '''\n",
    "    if state_name != 'Texas' and state_name != 'Florida':\n",
    "        fp = get_data(state_name)\n",
    "        print('filepath to test data:', fp)\n",
    "        osm = OSM(fp)\n",
    "        edges = osm.get_network(nodes = False, network_type='driving')\n",
    "        print(f\"Get {state_name} network data successfully!\")\n",
    "    else:\n",
    "        graph = ox.graph_from_place(state_name, network_type='drive', retain_all=True)\n",
    "        print('graph is retrieved!')\n",
    "        edges = ox.graph_to_gdfs(graph, nodes=False)\n",
    "        print(f\"Get {state_name} network data successfully!\")\n",
    "        \n",
    "    return edges"
   ]
  },
  {
   "cell_type": "code",
   "execution_count": 3,
   "metadata": {},
   "outputs": [],
   "source": [
    "## The function is used to connect postresql\n",
    "def db_connect(host, database, user, password, port):\n",
    "    conn_string = 'postgresql://{0}:{1}@{2}:{3}/{4}'.format(user, password, host, port, database)\n",
    "    pg_conn = psycopg2.connect(conn_string)\n",
    "    cur = pg_conn.cursor()\n",
    "    engine = create_engine(conn_string)\n",
    "    sql_conn = engine.connect() \n",
    "\n",
    "    return pg_conn, cur, sql_conn\n",
    "\n",
    "\n",
    "def upload_data_to_postgres(host, database, user, password, port, schema, states):\n",
    "    pg_conn, cur, sql_conn = db_connect(host, database, user, password, port)\n",
    "    cur.execute(f\"CREATE SCHEMA IF NOT EXISTS {schema}\")\n",
    "    try:\n",
    "        for table_name in list(states.values()):\n",
    "            edges = get_network_edges(table_name)\n",
    "            edges['geometry'] = edges.geometry.to_wkt()\n",
    "            \n",
    "            # Upload DataFrame to the table\n",
    "            table_name = table_name.lower()\n",
    "            edges.to_sql(table_name, sql_conn, schema, if_exists='replace', index=False)\n",
    "            full_table_name = f\"{schema}.{table_name}\"\n",
    "            print(f\"DataFrame uploaded to the table {full_table_name} successfully!\")\n",
    "\n",
    "    except Exception as e:\n",
    "        print(f\"Error creating schema and table or uploading DataFrame: {e}\")\n",
    "\n",
    "    pg_conn.commit()\n",
    "    pg_conn.close()\n"
   ]
  },
  {
   "cell_type": "code",
   "execution_count": 4,
   "metadata": {},
   "outputs": [],
   "source": [
    "def main():\n",
    "    # Define schema and table names\n",
    "    schema = 'geospatial'\n",
    "    states = {\n",
    "            'AK': 'Alaska',\n",
    "            'AL': 'Alabama',\n",
    "            'AR': 'Arkansas',\n",
    "            'AZ': 'Arizona',\n",
    "            'CA1': 'Northern California',\n",
    "            'CA2': 'Southern California',\n",
    "            'CO': 'Colorado',\n",
    "            'CT': 'Connecticut',\n",
    "            'DC': 'District of Columbia',\n",
    "            'DE': 'Delaware',\n",
    "            'FL': 'Florida',\n",
    "            'GA': 'Georgia',\n",
    "            'HI': 'Hawaii',\n",
    "            'IA': 'Iowa',\n",
    "            'ID': 'Idaho',\n",
    "            'IL': 'Illinois',\n",
    "            'IN': 'Indiana',\n",
    "            'KS': 'Kansas',\n",
    "            'KY': 'Kentucky',\n",
    "            'LA': 'Louisiana',\n",
    "            'MA': 'Massachusetts',\n",
    "            'MD': 'Maryland',\n",
    "            'ME': 'Maine',\n",
    "            'MI': 'Michigan',\n",
    "            'MN': 'Minnesota',\n",
    "            'MO': 'Missouri',\n",
    "            'MS': 'Mississippi',\n",
    "            'MT': 'Montana',\n",
    "            'NC': 'North Carolina',\n",
    "            'ND': 'North Dakota',\n",
    "            'NE': 'Nebraska',\n",
    "            'NH': 'New Hampshire',\n",
    "            'NJ': 'New Jersey',\n",
    "            'NM': 'New Mexico',\n",
    "            'NV': 'Nevada',\n",
    "            'NY': 'New York',\n",
    "            'OH': 'Ohio',\n",
    "            'OK': 'Oklahoma',\n",
    "            'OR': 'Oregon',\n",
    "            'PA': 'Pennsylvania',\n",
    "            'RI': 'Rhode Island',\n",
    "            'SC': 'South Carolina',\n",
    "            'SD': 'South Dakota',\n",
    "            'TN': 'Tennessee',\n",
    "            'TX': 'Texas',\n",
    "            'UT': 'Utah',\n",
    "            'VA': 'Virginia',\n",
    "            'VT': 'Vermont',\n",
    "            'WA': 'Washington',\n",
    "            'WI': 'Wisconsin',\n",
    "            'WV': 'West Virginia',\n",
    "            'WY': 'Wyoming'\n",
    "    }\n",
    "    \n",
    "    # PostgreSQL connection details\n",
    "    host = 'localhost'\n",
    "    database = 'national_volume_osm'\n",
    "    user = 'postgres'\n",
    "    password = 'wjh00813'\n",
    "    port = 5432\n",
    "    \n",
    "#     #Load state bounding box to partition network data (some of the states like Florida and Texas have very large files)\n",
    "#     states_shp = gpd.read_file('../osm/states_bbox/cb_2018_us_state_500k.shp')\n",
    "\n",
    "    # upload dataframe to postgresql\n",
    "    upload_data_to_postgres(host, database, user, password, port, schema, states)\n"
   ]
  },
  {
   "cell_type": "code",
   "execution_count": 5,
   "metadata": {},
   "outputs": [
    {
     "name": "stdout",
     "output_type": "stream",
     "text": [
      "filepath to test data: /tmp/pyrosm/alaska-latest.osm.pbf\n",
      "Get Alaska network data successfully!\n"
     ]
    },
    {
     "name": "stderr",
     "output_type": "stream",
     "text": [
      "/home/jwang/workspace/national_energy_impact/.venv/lib/python3.8/site-packages/geopandas/geodataframe.py:1537: UserWarning: Geometry column does not contain geometry.\n",
      "  warnings.warn(\"Geometry column does not contain geometry.\")\n"
     ]
    },
    {
     "name": "stdout",
     "output_type": "stream",
     "text": [
      "DataFrame uploaded to the table geospatial.alaska successfully!\n",
      "filepath to test data: /tmp/pyrosm/alabama-latest.osm.pbf\n",
      "Get Alabama network data successfully!\n"
     ]
    },
    {
     "name": "stderr",
     "output_type": "stream",
     "text": [
      "/home/jwang/workspace/national_energy_impact/.venv/lib/python3.8/site-packages/geopandas/geodataframe.py:1537: UserWarning: Geometry column does not contain geometry.\n",
      "  warnings.warn(\"Geometry column does not contain geometry.\")\n"
     ]
    },
    {
     "name": "stdout",
     "output_type": "stream",
     "text": [
      "DataFrame uploaded to the table geospatial.alabama successfully!\n",
      "filepath to test data: /tmp/pyrosm/arkansas-latest.osm.pbf\n",
      "Get Arkansas network data successfully!\n"
     ]
    },
    {
     "name": "stderr",
     "output_type": "stream",
     "text": [
      "/home/jwang/workspace/national_energy_impact/.venv/lib/python3.8/site-packages/geopandas/geodataframe.py:1537: UserWarning: Geometry column does not contain geometry.\n",
      "  warnings.warn(\"Geometry column does not contain geometry.\")\n"
     ]
    },
    {
     "name": "stdout",
     "output_type": "stream",
     "text": [
      "DataFrame uploaded to the table geospatial.arkansas successfully!\n",
      "filepath to test data: /tmp/pyrosm/arizona-latest.osm.pbf\n",
      "Get Arizona network data successfully!\n"
     ]
    },
    {
     "name": "stderr",
     "output_type": "stream",
     "text": [
      "/home/jwang/workspace/national_energy_impact/.venv/lib/python3.8/site-packages/geopandas/geodataframe.py:1537: UserWarning: Geometry column does not contain geometry.\n",
      "  warnings.warn(\"Geometry column does not contain geometry.\")\n"
     ]
    },
    {
     "name": "stdout",
     "output_type": "stream",
     "text": [
      "DataFrame uploaded to the table geospatial.arizona successfully!\n",
      "filepath to test data: /tmp/pyrosm/norcal-latest.osm.pbf\n"
     ]
    },
    {
     "ename": "",
     "evalue": "",
     "output_type": "error",
     "traceback": [
      "\u001b[1;31mCannot execute code, session has been disposed. Please try restarting the Kernel."
     ]
    },
    {
     "ename": "",
     "evalue": "",
     "output_type": "error",
     "traceback": [
      "\u001b[1;31mThe Kernel crashed while executing code in the the current cell or a previous cell. Please review the code in the cell(s) to identify a possible cause of the failure. Click <a href='https://aka.ms/vscodeJupyterKernelCrash'>here</a> for more info. View Jupyter <a href='command:jupyter.viewOutput'>log</a> for further details."
     ]
    }
   ],
   "source": [
    "if __name__ == \"__main__\":\n",
    "    main()"
   ]
  }
 ],
 "metadata": {
  "kernelspec": {
   "display_name": ".venv",
   "language": "python",
   "name": "python3"
  },
  "language_info": {
   "codemirror_mode": {
    "name": "ipython",
    "version": 3
   },
   "file_extension": ".py",
   "mimetype": "text/x-python",
   "name": "python",
   "nbconvert_exporter": "python",
   "pygments_lexer": "ipython3",
   "version": "3.8.10"
  },
  "orig_nbformat": 4
 },
 "nbformat": 4,
 "nbformat_minor": 2
}
