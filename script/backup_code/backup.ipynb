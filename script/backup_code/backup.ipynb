{
 "cells": [
  {
   "cell_type": "code",
   "execution_count": null,
   "metadata": {},
   "outputs": [],
   "source": [
    "states_shp = gpd.read_file('../osm/states_bbox/cb_2018_us_state_500k.shp')\n",
    "bbox = states_shp[states_shp['NAME']=='Florida'].geometry.bounds\n",
    "bbox"
   ]
  },
  {
   "cell_type": "code",
   "execution_count": null,
   "metadata": {},
   "outputs": [],
   "source": [
    "bx = ox.geocode_to_gdf('Texas, USA')\n",
    "gf = ox.graph_from_bbox(bx.bbox_north, bx.bbox_south, bx.bbox_east, bx.bbox_west, network_type='drive')"
   ]
  },
  {
   "cell_type": "code",
   "execution_count": null,
   "metadata": {},
   "outputs": [],
   "source": [
    "graph = ox.graph_from_place('Texas', network_type='drive', retain_all=True)\n",
    "print('graph is retrieved!')"
   ]
  },
  {
   "cell_type": "code",
   "execution_count": null,
   "metadata": {},
   "outputs": [],
   "source": [
    "edges = ox.graph_to_gdfs(graph, nodes=False)\n",
    "print(f\"Get Texas network data successfully!\")"
   ]
  },
  {
   "cell_type": "code",
   "execution_count": null,
   "metadata": {},
   "outputs": [],
   "source": [
    "host = 'localhost'\n",
    "database = 'national_volume_osm'\n",
    "user = 'postgres'\n",
    "password = 'wjh00813'\n",
    "port = 5432\n",
    "pg_conn, cur, sql_conn = db_connect(host, database, user, password, port)"
   ]
  },
  {
   "cell_type": "code",
   "execution_count": null,
   "metadata": {},
   "outputs": [],
   "source": [
    "schema = 'geospatial'\n",
    "edges['geometry'] = edges.geometry.to_wkt()\n",
    "            \n",
    "# Upload DataFrame to the table\n",
    "table_name = 'Texas'.lower()\n",
    "edges.to_sql(table_name, sql_conn, schema, if_exists='replace', index=False)\n",
    "full_table_name = f\"{schema}.{table_name}\"\n",
    "print(f\"DataFrame uploaded to the table {full_table_name} successfully!\")"
   ]
  },
  {
   "cell_type": "code",
   "execution_count": null,
   "metadata": {},
   "outputs": [],
   "source": [
    "## Use osm2pgsql command to load pbf to postgresql, add directory before osm2pgsql if dir is not set in python environment\n",
    "# osm2pgsql -c -d national_volume_osm -U postgres -H localhost -P 5432 -W -S D:\\osm2pgsql-latest-x64\\default.style --output-pgsql-schema=geospatial D:\\proposals\\national_energy_impact\\script\\texas-latest.osm.pbf"
   ]
  }
 ],
 "metadata": {
  "language_info": {
   "name": "python"
  },
  "orig_nbformat": 4
 },
 "nbformat": 4,
 "nbformat_minor": 2
}
