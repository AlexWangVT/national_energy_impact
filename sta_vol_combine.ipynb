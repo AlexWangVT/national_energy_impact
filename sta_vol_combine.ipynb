{
 "cells": [
  {
   "cell_type": "code",
   "execution_count": 2,
   "metadata": {},
   "outputs": [
    {
     "data": {
      "text/plain": [
       "'/home/jwang/workspace/national_energy_impact/.venv/lib/python3.8/site-packages/pyspark'"
      ]
     },
     "execution_count": 2,
     "metadata": {},
     "output_type": "execute_result"
    }
   ],
   "source": [
    "import pandas as pd\n",
    "import numpy as np\n",
    "from pyspark.sql import SparkSession\n",
    "from pyspark.conf import SparkConf\n",
    "import psycopg2\n",
    "import findspark\n",
    "findspark.init()\n",
    "findspark.find()"
   ]
  },
  {
   "cell_type": "code",
   "execution_count": 3,
   "metadata": {},
   "outputs": [
    {
     "name": "stderr",
     "output_type": "stream",
     "text": [
      "23/08/07 16:08:06 WARN Utils: Your hostname, jwang resolves to a loopback address: 127.0.1.1; using 192.168.2.168 instead (on interface wlp0s20f3)\n",
      "23/08/07 16:08:06 WARN Utils: Set SPARK_LOCAL_IP if you need to bind to another address\n",
      "23/08/07 16:08:06 WARN NativeCodeLoader: Unable to load native-hadoop library for your platform... using builtin-java classes where applicable\n",
      "Setting default log level to \"WARN\".\n",
      "To adjust logging level use sc.setLogLevel(newLevel). For SparkR, use setLogLevel(newLevel).\n"
     ]
    }
   ],
   "source": [
    "spark = SparkSession.builder \\\n",
    "        .appName(\"Python Spark SQL data query\") \\\n",
    "        .config('spark.jars', '/home/jwang/workspace/postgresql_jar/postgresql-42.6.0.jar') \\\n",
    "        .getOrCreate()"
   ]
  },
  {
   "cell_type": "code",
   "execution_count": null,
   "metadata": {},
   "outputs": [],
   "source": [
    "def db_connect(host, database, user, password, port, schema, table_name):\n",
    "    # prepare for saving data to postgresql\n",
    "    # connect to postgresql database, create a schema if not exist, and clear old tables\n",
    "    conn_string = 'postgresql://{0}:{1}@{2}:{3}/{4}'.format(user, password, host, port, database)\n",
    "    pg_conn = psycopg2.connect(conn_string)\n",
    "    cur = pg_conn.cursor()  \n",
    "    cur.execute(f\"CREATE SCHEMA IF NOT EXISTS {schema}\")\n",
    "    cur.execute(f\"DROP TABLE IF EXISTS {schema}.{table_name}\")\n",
    "    pg_conn.commit()\n",
    "    pg_conn.close()\n",
    "\n",
    "\n"
   ]
  },
  {
   "cell_type": "code",
   "execution_count": null,
   "metadata": {},
   "outputs": [],
   "source": [
    "def main():\n",
    "    host = 'localhost'\n",
    "    database = 'national_volume_osm'\n",
    "    user = 'postgres'\n",
    "    password = 'wjh00813'\n",
    "    port = 5432"
   ]
  }
 ],
 "metadata": {
  "kernelspec": {
   "display_name": ".venv",
   "language": "python",
   "name": "python3"
  },
  "language_info": {
   "codemirror_mode": {
    "name": "ipython",
    "version": 3
   },
   "file_extension": ".py",
   "mimetype": "text/x-python",
   "name": "python",
   "nbconvert_exporter": "python",
   "pygments_lexer": "ipython3",
   "version": "3.8.10"
  },
  "orig_nbformat": 4
 },
 "nbformat": 4,
 "nbformat_minor": 2
}
